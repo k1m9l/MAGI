{
 "cells": [
  {
   "cell_type": "code",
   "execution_count": 1,
   "id": "6a354150",
   "metadata": {},
   "outputs": [
    {
     "name": "stderr",
     "output_type": "stream",
     "text": [
      "\u001b[32m\u001b[1m  Generating\u001b[22m\u001b[39m  project MagiJl:\n",
      "    MagiJl/Project.toml\n",
      "    MagiJl/src/MagiJl.jl\n"
     ]
    },
    {
     "data": {
      "text/plain": [
       "Dict{String, Base.UUID} with 1 entry:\n",
       "  \"MagiJl\" => UUID(\"d8068848-47f9-48d8-9060-ff7744899dbd\")"
      ]
     },
     "metadata": {},
     "output_type": "display_data"
    }
   ],
   "source": [
    "using Pkg\n",
    "Pkg.generate(\"MagiJl\") # Or another name you prefer, like MagiJl"
   ]
  },
  {
   "cell_type": "code",
   "execution_count": null,
   "id": "e013cdf5",
   "metadata": {},
   "outputs": [],
   "source": []
  }
 ],
 "metadata": {
  "kernelspec": {
   "display_name": "Julia 1.11.5",
   "language": "julia",
   "name": "julia-1.11"
  },
  "language_info": {
   "file_extension": ".jl",
   "mimetype": "application/julia",
   "name": "julia",
   "version": "1.11.5"
  }
 },
 "nbformat": 4,
 "nbformat_minor": 5
}
